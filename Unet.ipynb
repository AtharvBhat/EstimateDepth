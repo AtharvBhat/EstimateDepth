{
 "cells": [
  {
   "cell_type": "code",
   "execution_count": 1,
   "id": "0e6f7fe4",
   "metadata": {},
   "outputs": [],
   "source": [
    "import torch\n",
    "from torch.utils.data import Dataset\n",
    "import torch.nn as nn\n",
    "import torch.nn.functional as F\n",
    "import torch.optim as optim\n",
    "from torchvision import datasets, transforms\n",
    "import numpy as np\n",
    "from tqdm.notebook import tqdm\n",
    "import matplotlib.pyplot as plt\n",
    "from unet_model import UNet\n",
    "from torchinfo import summary\n",
    "%matplotlib inline\n",
    "\n",
    "torch.manual_seed(1337)\n",
    "np.random.seed(1337)"
   ]
  },
  {
   "cell_type": "code",
   "execution_count": 2,
   "id": "9848a2ff",
   "metadata": {},
   "outputs": [],
   "source": [
    "class MyDataset(Dataset):\n",
    "\n",
    "    def __init__(self, X_path=\"dataset/x_train.npy\", y_path=\"dataset/y_train.npy\", transform=None):\n",
    "        self.X = np.load(X_path).transpose(0, 3, 1, 2)\n",
    "        self.y = np.load(y_path)\n",
    "        self.transform = transform\n",
    "    \n",
    "    def __len__(self):\n",
    "        return self.X.shape[0]\n",
    "\n",
    "    def __getitem__(self, idx):\n",
    "        if self.transform:\n",
    "            sample = self.transform(self.X[idx])\n",
    "            return sample, np.expand_dims(self.y[idx], 0)\n",
    "        else:\n",
    "            return self.X[idx], np.expand_dims(self.y[idx], 0)\n",
    "        \n",
    "data_transform = transforms.Compose([\n",
    "    transforms.ToTensor()\n",
    "])"
   ]
  },
  {
   "cell_type": "code",
   "execution_count": 3,
   "id": "12425056",
   "metadata": {},
   "outputs": [],
   "source": [
    "train_dataset = MyDataset(\"dataset/x_train.npy\", \"dataset/y_train.npy\")\n",
    "val_dataset = MyDataset(\"dataset/x_val.npy\", \"dataset/y_val.npy\")\n",
    "test_dataset = MyDataset(\"dataset/x_test.npy\", \"dataset/y_test.npy\")\n",
    "\n",
    "#hyper params\n",
    "batch_size = 1\n",
    "\n",
    "\n",
    "train_loader = torch.utils.data.DataLoader(train_dataset, batch_size=batch_size, shuffle=True)\n",
    "val_loader = torch.utils.data.DataLoader(val_dataset, batch_size=batch_size, shuffle=False)\n",
    "test_loader = torch.utils.data.DataLoader(test_dataset, batch_size=batch_size, shuffle=False)"
   ]
  },
  {
   "cell_type": "code",
   "execution_count": 4,
   "id": "e1ca8f44",
   "metadata": {},
   "outputs": [],
   "source": [
    "device = \"cuda\"\n",
    "model = UNet(3, 1, bilinear=False)\n",
    "model = model.to(device)\n",
    "optimizer = torch.optim.Adam(model.parameters(), weight_decay=1e-3)\n",
    "scheduler = optim.lr_scheduler.ReduceLROnPlateau(optimizer, 'min', patience=4, verbose=True)"
   ]
  },
  {
   "cell_type": "code",
   "execution_count": 5,
   "id": "241c21f6",
   "metadata": {},
   "outputs": [
    {
     "data": {
      "text/plain": [
       "======================================================================\n",
       "Layer (type:depth-idx)                        Param #\n",
       "======================================================================\n",
       "UNet                                          --\n",
       "├─DoubleConv: 1-1                             --\n",
       "│    └─Sequential: 2-1                        --\n",
       "│    │    └─Conv2d: 3-1                       1,792\n",
       "│    │    └─BatchNorm2d: 3-2                  128\n",
       "│    │    └─ReLU: 3-3                         --\n",
       "│    │    └─Conv2d: 3-4                       36,928\n",
       "│    │    └─BatchNorm2d: 3-5                  128\n",
       "│    │    └─ReLU: 3-6                         --\n",
       "├─Down: 1-2                                   --\n",
       "│    └─Sequential: 2-2                        --\n",
       "│    │    └─MaxPool2d: 3-7                    --\n",
       "│    │    └─DoubleConv: 3-8                   221,952\n",
       "├─Down: 1-3                                   --\n",
       "│    └─Sequential: 2-3                        --\n",
       "│    │    └─MaxPool2d: 3-9                    --\n",
       "│    │    └─DoubleConv: 3-10                  886,272\n",
       "├─Down: 1-4                                   --\n",
       "│    └─Sequential: 2-4                        --\n",
       "│    │    └─MaxPool2d: 3-11                   --\n",
       "│    │    └─DoubleConv: 3-12                  3,542,016\n",
       "├─Down: 1-5                                   --\n",
       "│    └─Sequential: 2-5                        --\n",
       "│    │    └─MaxPool2d: 3-13                   --\n",
       "│    │    └─DoubleConv: 3-14                  14,161,920\n",
       "├─Up: 1-6                                     --\n",
       "│    └─ConvTranspose2d: 2-6                   2,097,664\n",
       "│    └─DoubleConv: 2-7                        --\n",
       "│    │    └─Sequential: 3-15                  7,080,960\n",
       "├─Up: 1-7                                     --\n",
       "│    └─ConvTranspose2d: 2-8                   524,544\n",
       "│    └─DoubleConv: 2-9                        --\n",
       "│    │    └─Sequential: 3-16                  1,771,008\n",
       "├─Up: 1-8                                     --\n",
       "│    └─ConvTranspose2d: 2-10                  131,200\n",
       "│    └─DoubleConv: 2-11                       --\n",
       "│    │    └─Sequential: 3-17                  443,136\n",
       "├─Up: 1-9                                     --\n",
       "│    └─ConvTranspose2d: 2-12                  32,832\n",
       "│    └─DoubleConv: 2-13                       --\n",
       "│    │    └─Sequential: 3-18                  110,976\n",
       "├─OutConv: 1-10                               --\n",
       "│    └─Conv2d: 2-14                           65\n",
       "======================================================================\n",
       "Total params: 31,043,521\n",
       "Trainable params: 31,043,521\n",
       "Non-trainable params: 0\n",
       "======================================================================"
      ]
     },
     "execution_count": 5,
     "metadata": {},
     "output_type": "execute_result"
    }
   ],
   "source": [
    "summary(model)"
   ]
  },
  {
   "cell_type": "code",
   "execution_count": 6,
   "id": "9a06b1b4",
   "metadata": {},
   "outputs": [],
   "source": [
    "def train(epoch):\n",
    "    train_loss = 0\n",
    "    model.train()\n",
    "    print(f\"Running Epoch {epoch}\")\n",
    "    for batch_idx, (data, target) in enumerate(tqdm(train_loader)):\n",
    "        data, target = data.to(device), target.to(device)\n",
    "        optimizer.zero_grad()\n",
    "        output = model(data.float())\n",
    "        loss = F.l1_loss(output, target)\n",
    "        loss.backward()\n",
    "        train_loss += loss.item()\n",
    "        optimizer.step()\n",
    "\n",
    "    train_loss /= len(train_loader.dataset)\n",
    "    print(f\"Epoch {epoch} : Avg Loss : {loss}\")\n",
    "    return train_loss\n",
    "    \n",
    "        \n",
    "def validation():\n",
    "    model.eval()\n",
    "    validation_loss = 0\n",
    "    for data, target in val_loader:\n",
    "        data, target = data.to(device), target.to(device)\n",
    "        output = model(data.float())\n",
    "        validation_loss += F.l1_loss(output, target).item() # sum up batch loss\n",
    "\n",
    "    validation_loss /= len(val_loader.dataset)\n",
    "    print(f'Validation set: Average loss: {validation_loss}')\n",
    "    return validation_loss"
   ]
  },
  {
   "cell_type": "code",
   "execution_count": null,
   "id": "d736a946",
   "metadata": {},
   "outputs": [
    {
     "name": "stdout",
     "output_type": "stream",
     "text": [
      "Running Epoch 1\n"
     ]
    },
    {
     "data": {
      "application/vnd.jupyter.widget-view+json": {
       "model_id": "dbdd22de026e42f597f35c3287bf3bfb",
       "version_major": 2,
       "version_minor": 0
      },
      "text/plain": [
       "  0%|          | 0/1014 [00:00<?, ?it/s]"
      ]
     },
     "metadata": {},
     "output_type": "display_data"
    }
   ],
   "source": [
    "epochs = 20\n",
    "\n",
    "train_loss = []\n",
    "validation_loss = []\n",
    "learning_rate = []\n",
    "\n",
    "for epoch in range(1, epochs + 1):\n",
    "    \n",
    "    loss = train(epoch)\n",
    "    train_loss.append(loss)\n",
    "    \n",
    "    loss = validation()\n",
    "    validation_loss.append(loss)\n",
    "    \n",
    "    \n",
    "    scheduler.step(loss)\n",
    "    learning_rate.append(optimizer.param_groups[0]['lr'])\n",
    "    model_file = 'models/model_' + str(epoch) + '.pth'\n",
    "    torch.save(model.state_dict(), model_file)"
   ]
  }
 ],
 "metadata": {
  "kernelspec": {
   "display_name": "Python 3 (ipykernel)",
   "language": "python",
   "name": "python3"
  },
  "language_info": {
   "codemirror_mode": {
    "name": "ipython",
    "version": 3
   },
   "file_extension": ".py",
   "mimetype": "text/x-python",
   "name": "python",
   "nbconvert_exporter": "python",
   "pygments_lexer": "ipython3",
   "version": "3.9.6"
  }
 },
 "nbformat": 4,
 "nbformat_minor": 5
}
